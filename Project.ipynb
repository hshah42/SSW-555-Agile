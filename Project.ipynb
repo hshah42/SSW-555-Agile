{
 "cells": [
  {
   "cell_type": "code",
   "execution_count": 1,
   "metadata": {},
   "outputs": [
    {
     "name": "stdout",
     "output_type": "stream",
     "text": [
      "Requirement already satisfied: prettytable in c:\\programdata\\anaconda3\\lib\\site-packages (0.7.2)\n"
     ]
    }
   ],
   "source": [
    "# All the file imports\n",
    "!pip install prettytable\n",
    "from datetime import datetime\n",
    "from prettytable import PrettyTable\n",
    "import os"
   ]
  },
  {
   "cell_type": "code",
   "execution_count": 2,
   "metadata": {},
   "outputs": [],
   "source": [
    "def isDateParent(A):\n",
    "    return A[1] in tag_fam[\"DATE\"]"
   ]
  },
  {
   "cell_type": "code",
   "execution_count": 3,
   "metadata": {},
   "outputs": [],
   "source": [
    "# Convert month string to month number\n",
    "# :param month for which we need the number\n",
    "def month_to_num(shortMonth):\n",
    "    return{\n",
    "        'JAN' : \"1\",\n",
    "        'FEB' : \"2\",\n",
    "        'MAR' : \"3\",\n",
    "        'APR' : \"4\",\n",
    "        'MAY' : \"5\",\n",
    "        'JUN' : \"6\",\n",
    "        'JUL' : \"7\",\n",
    "        'AUG' : \"8\",\n",
    "        'SEP' : \"9\", \n",
    "        'OCT' : \"10\",\n",
    "        'NOV' : \"11\",\n",
    "        'DEC' : \"12\"\n",
    "    }[shortMonth]"
   ]
  },
  {
   "cell_type": "code",
   "execution_count": 4,
   "metadata": {},
   "outputs": [],
   "source": [
    "# Convert input date to standard format\n",
    "# :param date array in input\n",
    "def convert_date(date_arr):\n",
    "    return \"{}-{}-{}\".format(date_arr[2], month_to_num(date_arr[1]), date_arr[0])"
   ]
  },
  {
   "cell_type": "code",
   "execution_count": 5,
   "metadata": {},
   "outputs": [],
   "source": [
    "# Determine age based on birthdate and death date\n",
    "# If death date is not present then function uses the current date as a comparison\n",
    "def determine_age(birth_date, death_date):\n",
    "    birth_month= birth_date.split('-')[1]\n",
    "    birth_day= birth_date.split('-')[0]\n",
    "    \n",
    "    if death_date:\n",
    "        death_month=death_date.split('-')[1]\n",
    "        death_day=death_date.split('-')[0]\n",
    "        return int(death_date.split('-')[0]) - int(birth_date.split('-')[0])-((int(death_month), int(death_day))< (int(birth_month), int(birth_day)))\n",
    "    else:\n",
    "        today = datetime.today()\n",
    "        return today.year - int(birth_date.split('-')[0]) - ((today.month, today.day) < (int(birth_month), int(birth_day)))"
   ]
  },
  {
   "cell_type": "code",
   "execution_count": 6,
   "metadata": {},
   "outputs": [],
   "source": [
    "def find_name(arr, _id):\n",
    "    #takes array of dict objects\n",
    "    for indi in arr:\n",
    "        if _id == indi[\"INDI\"]:\n",
    "            return indi[\"NAME\"]"
   ]
  },
  {
   "cell_type": "code",
   "execution_count": 7,
   "metadata": {},
   "outputs": [],
   "source": [
    "# create dictionary entry for the passed tag\n",
    "# :param current_arr is the current array line being processed\n",
    "# :param tag can will be either FAM or INDI\n",
    "def create_dic_entry(current_arr, tag):\n",
    "    current_tag=tag\n",
    "    dic={}\n",
    "    dic[tag]=current_arr[1]\n",
    "    return dic, current_tag"
   ]
  },
  {
   "cell_type": "code",
   "execution_count": 8,
   "metadata": {},
   "outputs": [],
   "source": [
    "# Adds missing tags with \"NA\"\n",
    "def add_missing_entries(dic):\n",
    "    if \"DIV\" not in dic:\n",
    "        dic[\"DIV\"] = \"NA\"\n",
    "    if \"HUSB\" not in dic:\n",
    "        dic[\"HUSB\"] = \"NA\"\n",
    "    if \"HUSB_NAME\" not in dic:\n",
    "        dic[\"HUSB_NAME\"] = \"NA\"\n",
    "    if \"WIFE\" not in dic:\n",
    "        dic[\"WIFE\"] = \"NA\"\n",
    "    if \"WIFE_NAME\" not in dic:\n",
    "        dic[\"WIFE_NAME\"] = \"NA\"\n",
    "    if \"FAM_CHILD\" not in dic:\n",
    "        dic[\"FAM_CHILD\"] = \"NA\"\n",
    "    if \"MARR\" not in dic:\n",
    "        dic[\"MARR\"] = \"NA\"   "
   ]
  },
  {
   "cell_type": "code",
   "execution_count": 9,
   "metadata": {},
   "outputs": [],
   "source": [
    "# Checking if one date is after another\n",
    "# :param date_one is the date being compared with\n",
    "# :param date_two is the date being compared t0\n",
    "def is_date_after(date_one, date_two):\n",
    "    return date_one < date_two"
   ]
  },
  {
   "cell_type": "code",
   "execution_count": 10,
   "metadata": {},
   "outputs": [],
   "source": [
    "# Create map of individuals where key is the individual id and\n",
    "# individual object is the  value\n",
    "def create_individuals_map():\n",
    "    global individuals\n",
    "    individuals = {}\n",
    "    for individual in document[\"INDI\"]:\n",
    "        individuals[individual[\"INDI\"]] = individual"
   ]
  },
  {
   "cell_type": "code",
   "execution_count": 11,
   "metadata": {},
   "outputs": [],
   "source": [
    "# Creating a family dictionary with the key as the family id and the value as the\n",
    "# information about the family and the objects corresponding to husband, wife and children\n",
    "def create_family_dic():\n",
    "    global family_dic\n",
    "    family_dic = {}\n",
    "    for family in document[\"FAM\"]:\n",
    "        if family[\"HUSB\"] != \"NA\" and family[\"HUSB\"] in individuals:\n",
    "            family[\"husband_object\"] = individuals[family[\"HUSB\"]]\n",
    "        if family[\"WIFE\"] != \"NA\" and family[\"WIFE\"] in individuals:\n",
    "            family[\"wife_object\"] = individuals[family[\"WIFE\"]]\n",
    "        if family[\"FAM_CHILD\"] != \"NA\":\n",
    "            children = []\n",
    "            for child in family[\"FAM_CHILD\"]:\n",
    "                children.append(individuals[child])\n",
    "            family[\"children_objects\"] = children\n",
    "        family_dic[family[\"FAM\"]] = family\n",
    "            "
   ]
  },
  {
   "cell_type": "code",
   "execution_count": 12,
   "metadata": {},
   "outputs": [],
   "source": [
    "def read_in(file):\n",
    "    doc={\"INDI\":[], \"FAM\":[]}\n",
    "    dic={}\n",
    "    flag=False #indicates whether the correct tag has appeared before DATE tag\n",
    "    with open(file) as f:\n",
    "        all_lines=f.readlines()\n",
    "        for line, next_line in zip(all_lines, all_lines[1:]):\n",
    "            current_arr=line.strip().split(\" \")\n",
    "            next_arr=next_line.strip().split(\" \")\n",
    "            #if the current tag is individual\n",
    "            if len(current_arr)==3 and current_arr[0]=='0' and current_arr[2]== \"INDI\":\n",
    "                #inserts individual's ID into the dictionary\n",
    "                dic, current_tag=create_dic_entry(current_arr, \"INDI\") \n",
    "            elif len(current_arr)==3 and current_arr[0]=='0' and current_arr[2]==\"FAM\": \n",
    "                dic, current_tag=create_dic_entry(current_arr, \"FAM\")\n",
    "            elif (current_arr[1]==\"DATE\" and flag):\n",
    "                flag=False\n",
    "                date_arr = current_arr[2:] #extracts the date argument from the line\n",
    "                dic[tmp]= convert_date(date_arr) #converts the date into correct format\n",
    "            elif current_arr[0]=='1' and current_arr[1] in tag_one:\n",
    "                if (isDateParent(current_arr)): #determines whether the current tag is parent of DATE tag\n",
    "                    tmp=current_arr[1] #extracts the tag name\n",
    "                    flag=True\n",
    "                else: \n",
    "                    #current tag is not the parent tag of DATE tag\n",
    "                    if current_arr[1] == \"HUSB\":\n",
    "                        dic[\"HUSB_NAME\"]=find_name(doc[\"INDI\"], current_arr[2])\n",
    "                    if current_arr[1] == \"WIFE\":\n",
    "                        dic[\"WIFE_NAME\"]=find_name(doc[\"INDI\"], current_arr[2])\n",
    "                    if current_arr[1] == 'CHIL':\n",
    "                        #INDI_CHILD indicates all the children within a family\n",
    "                        children = dic[\"FAM_CHILD\"] if \"FAM_CHILD\" in dic else []\n",
    "                        children.append(current_arr[2])\n",
    "                        dic[\"FAM_CHILD\"] = children\n",
    "                    if current_arr[1] == 'FAMC' or current_arr[1] == 'FAMS':\n",
    "                        child = dic[\"INDI_CHILD\"] if \"INDI_CHILD\" in dic else []\n",
    "                        spouse = dic[\"SPOUSE\"] if \"SPOUSE\" in dic else []\n",
    "                        child.append(current_arr[2]) if current_arr[1] == 'FAMC' else spouse.append(current_arr[2])\n",
    "                        dic['INDI_CHILD'] = child #FAM_CHILD indicates which family this individual belongs to\n",
    "                        dic['SPOUSE'] = spouse\n",
    "                    else: #other type of tag\n",
    "                        dic[current_arr[1]]=' '.join(current_arr[2:])\n",
    "            if (len(next_arr)==3 and next_arr[0]=='0' and next_arr[2] in tag_sp) or next_arr[1]==\"TRLR\":\n",
    "                if dic:\n",
    "                    if current_tag == 'INDI':\n",
    "                        if 'DEAT' in dic:\n",
    "                            age = determine_age(dic['BIRT'], dic['DEAT'])\n",
    "                            alive = False\n",
    "                        else:\n",
    "                            age = determine_age(dic['BIRT'], None)\n",
    "                            alive = True\n",
    "                            dic['DEAT'] = 'NA'\n",
    "                        dic[\"AGE\"] = str(age)\n",
    "                        dic['ALIVE']= alive\n",
    "                        #print(current_tag\n",
    "                        if not dic[\"SPOUSE\"]:\n",
    "                            dic[\"SPOUSE\"] = \"NA\"\n",
    "                        elif not dic[\"INDI_CHILD\"]:\n",
    "                            dic[\"INDI_CHILD\"] = \"NA\"\n",
    "                    if current_tag == 'FAM':\n",
    "                        add_missing_entries(dic)\n",
    "                    doc[current_tag].append(dic)\n",
    "        return doc\n",
    "                  "
   ]
  },
  {
   "cell_type": "code",
   "execution_count": 13,
   "metadata": {},
   "outputs": [],
   "source": [
    "#USID: 23\n",
    "def unique_name_and_birth():\n",
    "    li = {}\n",
    "    print(\"US23 - Unique names and birthdates\")\n",
    "    for value in individuals.values():\n",
    "        temp = value[\"NAME\"]+value[\"BIRT\"]\n",
    "        if temp in li:\n",
    "            anomaly_array.append(\"ANOMOLY: INDIVIDUAL: US23: {}: Person {} has Same Name and Birth Date {}\".format(value[\"INDI\"] , value[\"NAME\"], value[\"BIRT\"]))\n",
    "        else:\n",
    "            li[temp]=value[\"INDI\"]"
   ]
  },
  {
   "cell_type": "code",
   "execution_count": 14,
   "metadata": {},
   "outputs": [],
   "source": [
    "#USID: 25\n",
    "def uniquefamily_name_and_birth():\n",
    "    li = {}\n",
    "    print(\"US25 - Unique first names in families\")\n",
    "    for value in family_dic.values():\n",
    "        if len(value[\"children_objects\"]) > 0:\n",
    "            for child in value[\"children_objects\"]:\n",
    "                temp = child[\"NAME\"]+child[\"BIRT\"]\n",
    "                if temp in li:\n",
    "                    anomaly_array.append(\"ANOMOLY: INDIVIDUAL: US25: {}: Person {} has Same First Names and Birth Date {}\".format(child[\"INDI\"] , child[\"NAME\"], child[\"BIRT\"]))\n",
    "                else:          \n",
    "                    li[temp]=child[\"INDI\"]"
   ]
  },
  {
   "cell_type": "code",
   "execution_count": 15,
   "metadata": {},
   "outputs": [],
   "source": [
    "# Prints out the Individual Table\n",
    "def printIndividualTable():\n",
    "    #print(\"People Table\")\n",
    "    allFields = [\"ID\", \"Name\", \"Gender\", \"Birthday\", \"Age\", \"Alive\", \"Death\", \"Child\", \"Spouse\"]\n",
    "    tagNames = [\"INDI\", \"NAME\", \"SEX\", \"BIRT\", \"AGE\", \"ALIVE\", \"DEAT\", \"INDI_CHILD\", \"SPOUSE\"]\n",
    "    \n",
    "    printTable(\"People Table\", allFields, tagNames, individuals)"
   ]
  },
  {
   "cell_type": "code",
   "execution_count": 16,
   "metadata": {},
   "outputs": [],
   "source": [
    "# Prints out the Family Table\n",
    "def printFamilyTable():\n",
    "    #print(\"Families Table\")\n",
    "    allFields = [\"ID\", \"Married\", \"Divorced\", \"Husband ID\", \"Husband Name\", \"Wife ID\", \"Wife Name\", \"Children\"]\n",
    "    tagNames = [\"FAM\", \"MARR\", \"DIV\", \"HUSB\", \"HUSB_NAME\", \"WIFE\", \"WIFE_NAME\", \"FAM_CHILD\"]\n",
    "    \n",
    "    printTable(\"Families Table\", allFields, tagNames, family_dic)"
   ]
  },
  {
   "cell_type": "code",
   "execution_count": 17,
   "metadata": {},
   "outputs": [],
   "source": [
    "# Prints out the data in both error and anomaly arrays\n",
    "def printError():\n",
    "    file = open(\"cs555_sprint_outputs.txt\", \"a\")\n",
    "    if (len(error_array) > 0):\n",
    "        print(\"------error messages------\")\n",
    "        file.write(\"------error messages------\" + \"\\n\")\n",
    "        for error in error_array:\n",
    "            print(error)\n",
    "            file.write(error + \"\\n\")\n",
    "    if(len(anomaly_array) > 0):\n",
    "        print(\"-----anomaly messages-----\")\n",
    "        file.write(\"-----anomaly messages-----\" + \"\\n\")\n",
    "        for anomaly in anomaly_array:\n",
    "            print(anomaly)\n",
    "            file.write(anomaly + \"\\n\")\n",
    "    file.close()\n",
    "    "
   ]
  },
  {
   "cell_type": "code",
   "execution_count": 18,
   "metadata": {},
   "outputs": [],
   "source": [
    "# Prints out a table of dictionary data with the passed-in arguments\n",
    "# Parameters:\n",
    "# fields: a list of fields for the table\n",
    "# tag_names: tag names used to access each data field\n",
    "# dictionary: a dictionary filled with data\n",
    "def printTable(table_name, fields, tag_names, dictionary):\n",
    "    print(table_name)\n",
    "    table = PrettyTable()\n",
    "    table.field_names = fields\n",
    "    for element in dictionary.values():    \n",
    "        count = 1\n",
    "        row_data = \"\" #string uses to store each tag within the current element\n",
    "        for name in tag_names:\n",
    "            if (count < int(len(tag_names))): #not the last element\n",
    "                if (isinstance(element[name], list)): #current element is an array\n",
    "                    row_data += (\"\".join(element[name]) + \"? \")\n",
    "                else: #current element is not an array\n",
    "                    row_data += (str(element[name]) + \"? \")\n",
    "            elif (count == int(len(tag_names))):\n",
    "                if (isinstance(element[name], list)): #current element is an array\n",
    "                    row_data += (\"\".join(element[name]))\n",
    "                else: #current element is not an array\n",
    "                    row_data += (str(element[name]))\n",
    "                break\n",
    "            count+= 1;\n",
    "        table.add_row(row_data.split('?'))\n",
    "    # Stores outputs to a text file\n",
    "    storeResults(table_name, table.get_string())\n",
    "    print(table)"
   ]
  },
  {
   "cell_type": "code",
   "execution_count": 19,
   "metadata": {},
   "outputs": [],
   "source": [
    "# Stores all Project outputs into a single text file\n",
    "# Parameters:\n",
    "# result_name: name that will appear \n",
    "def storeResults(result_name, outputs):\n",
    "    file = open(\"cs555_sprint_outputs.txt\", \"a\")\n",
    "    file.write(result_name + \"\\n\")\n",
    "    file.write(outputs + \"\\n\\n\")\n",
    "    file.close()"
   ]
  },
  {
   "cell_type": "code",
   "execution_count": 20,
   "metadata": {},
   "outputs": [],
   "source": [
    "# Global variables initialization\n",
    "tag_sp = [\"INDI\", \"FAM\"]\n",
    "#Level Zero Tags\n",
    "tag_zero = [\"HEAD\", \"TRLR\", \"NOTE\"]\n",
    "#Level One Tags\n",
    "tag_one = [\"NAME\", \"SEX\", \"BIRT\", \"DEAT\",\"FAMC\",\"FAMS\",\"MARR\", \"DIV\",\"HUSB\",\"WIFE\",\"CHIL\"]\n",
    "#Level Zero Tags\n",
    "tag_fam = {\"INDI\":[\"NAME\", \"SEX\",\"BIRT\", \"DEAT\",\"FAMC\",\"FAMS\"],\n",
    "             \"FAM\":[\"MARR\", \"DIV\",\"HUSB\",\"WIFE\",\"CHIL\"], \n",
    "             \"DATE\":[\"BIRT\", \"DEAT\", \"DIV\", \"MARR\"]}\n",
    "family_dic = None\n",
    "individuals = None\n",
    "error_array = []\n",
    "anomaly_array = []"
   ]
  },
  {
   "cell_type": "code",
   "execution_count": 21,
   "metadata": {},
   "outputs": [
    {
     "name": "stdout",
     "output_type": "stream",
     "text": [
      "People Table\n",
      "+--------+------------------+--------+-------------+------+--------+-------------+-------+-----------+\n",
      "|   ID   |       Name       | Gender |   Birthday  | Age  | Alive  |    Death    | Child |   Spouse  |\n",
      "+--------+------------------+--------+-------------+------+--------+-------------+-------+-----------+\n",
      "|  @I1@  |   Maha /Idrisi/  |    F   |  1990-10-30 |  28  |  True  |      NA     |  @F1@ |     NA    |\n",
      "|  @I2@  |  Ahmed /Idrisi/  |    F   |   1960-1-13 |  10  |  False |   1970-2-11 |  @F2@ |    @F1@   |\n",
      "|  @I3@  |   Rafif /Arab/   |    M   |   1965-12-1 |   4  |  False |   1970-6-11 |  @F3@ |    @F1@   |\n",
      "|  @I4@  |   Ali /Idrisi/   |    M   |   1962-8-7  |  -23 |  False |   1940-6-11 |   NA  |    @F2@   |\n",
      "|  @I5@  |  Meryam /Albar/  |    F   |   1941-8-12 |  78  |  True  |      NA     |   NA  |  @F2@@F4@ |\n",
      "|  @I6@  |   Sami /Dawood/  |    M   |   1860-4-24 |  159 |  True  |      NA     |   NA  |    @F4@   |\n",
      "|  @I7@  |  Faisal /Dawood/ |    M   |   1970-4-17 |  49  |  True  |      NA     |  @F4@ |     NA    |\n",
      "|  @I8@  |  Noura /Dawood/  |    F   |   1965-8-18 |  54  |  True  |      NA     |  @F4@ |     NA    |\n",
      "|  @I9@  |  Reham /Idrisi/  |    F   |  1989-11-18 |  29  |  True  |      NA     |  @F1@ |     NA    |\n",
      "| @I10@  |  Hassan /Idrisi/ |    M   |   1985-5-14 |  34  |  True  |      NA     |  @F1@ |     NA    |\n",
      "| @I11@  |  Ibrahim /Arab/  |    M   |   1940-8-20 |  79  |  True  |      NA     |   NA  |    @F3@   |\n",
      "| @I12@  |   Hala /Saleem/  |    F   |   1984-1-1  |  35  |  True  |      NA     |   NA  |    @F3@   |\n",
      "| @I13@  |   Renad /Arab/   |    F   |  2017-12-01 |   1  |  True  |      NA     |   NA  |    @F3@   |\n",
      "| @I14@  |   Faisal /Arab/  |    M   |   2018-9-30 |   0  |  True  |      NA     |   NA  |    @F3@   |\n",
      "| @I15@  |  Faisal /Setia/  |    M   |  2018-11-05 |   0  |  True  |      NA     |   NA  |    @F3@   |\n",
      "| @I16@  |   Rayan /Arab/   |    M   |  2016-10-05 |   0  |  False |  2016-10-11 |   NA  |    @F3@   |\n",
      "| @I17@  |    Sara /Arab/   |    F   |  2016-12-20 |   2  |  True  |      NA     |   NA  |    @F3@   |\n",
      "| @I18@  |   Rehnad /Arab/  |    F   |  2017-11-01 |   1  |  True  |      NA     |   NA  |    @F3@   |\n",
      "| @I19@  |  Mohammed /Arab/ |    M   |  1989-11-09 |  29  |  True  |      NA     |   NA  |    @F3@   |\n",
      "| @I150@ |   Maha /Idrisi/  |    F   |  1990-10-30 |  28  |  True  |      NA     |  @F1@ |     NA    |\n",
      "| @I250@ |  Ahmed /Idrisi/  |    F   |   1960-1-13 |  10  |  False |   1970-2-11 |  @F2@ |    @F1@   |\n",
      "| @I20@  |  Himanshu /Arab/ |    M   |  1990-12-20 |  28  |  True  |      NA     |   NA  |    @F3@   |\n",
      "| @I21@  |   Dorris /Arab/  |    F   |  1991-12-20 |  27  |  True  |      NA     |   NA  |    @F3@   |\n",
      "| @I22@  |   Sarah /Arab/   |    F   |  1988-12-20 |  30  |  True  |      NA     |   NA  |    @F3@   |\n",
      "| @I23@  |   Gopesh /Arab/  |    M   |  1992-12-20 |  26  |  True  |      NA     |   NA  |    @F3@   |\n",
      "| @I24@  |   Sahil /Arab/   |    M   |  1990-12-20 |  28  |  True  |      NA     |   NA  |    @F3@   |\n",
      "| @I25@  |   Jigar /Arab/   |    M   |  1997-12-20 |  21  |  True  |      NA     |   NA  |    @F3@   |\n",
      "| @I26@  |   Sanket /Arab/  |    M   |  1996-12-20 |  22  |  True  |      NA     |   NA  |    @F3@   |\n",
      "| @I27@  |    Riya /Arab/   |    F   |  1994-12-20 |  24  |  True  |      NA     |   NA  |    @F3@   |\n",
      "| @I28@  |   Manan /Arab/   |    M   |  1999-12-20 |  19  |  True  |      NA     |   NA  |    @F3@   |\n",
      "| @I29@  |    Deep /Arab/   |    F   |  2000-12-20 |  18  |  True  |      NA     |   NA  |    @F3@   |\n",
      "| @I30@  |   Sapna /Arab/   |    F   |  2010-12-20 |   8  |  True  |      NA     |   NA  |    @F3@   |\n",
      "+--------+------------------+--------+-------------+------+--------+-------------+-------+-----------+\n",
      "Families Table\n",
      "+------+-------------+-----------+------------+-------------------+---------+-----------------+----------------------------------------------------------------------------------+\n",
      "|  ID  |   Married   |  Divorced | Husband ID |    Husband Name   | Wife ID |    Wife Name    |                                     Children                                     |\n",
      "+------+-------------+-----------+------------+-------------------+---------+-----------------+----------------------------------------------------------------------------------+\n",
      "| @F1@ |   1985-1-1  |  1990-4-4 |    @I2@    |    Helen /Colon/  |   @I3@  |   Dora /Colon/  |                                   @I1@@I9@@I10@                                  |\n",
      "| @F2@ |   1960-8-8  |     NA    |    @I4@    |    Rurra /Colon/  |   @I5@  |   John /Colon/  |                                       @I2@                                       |\n",
      "| @F3@ |   1983-1-1  |  1980-4-4 |    @I11@   |   Cathie /Colon/  |   @I12@ |  Dylan /Nilson/ |  @I3@@I13@@I14@@I17@@I18@@I20@@I21@@I22@@I23@@I24@@I25@@I26@@I27@@I28@@I29@@I30@ |\n",
      "| @F4@ |   1980-11-3 |     NA    |    @I6@    |  Micheal /Huston/ |   @I5@  |   John /Colon/  |                                   @I7@@I7@@I8@                                   |\n",
      "| @F5@ |  1972-10-15 |     NA    |    @I8@    |   Henry /Nilson/  |   @I4@  |   Rurra /Colon/ |                                    @I12@@I13@                                    |\n",
      "| @F6@ |   1980-11-3 |     NA    |    @I6@    |  Micheal /Huston/ |   @I5@  |   John /Colon/  |                                     @I7@@I8@                                     |\n",
      "| @F7@ |      NA     |     NA    |    @I16@   |    Davis /Hill/   |   @I11@ |  Cathie /Colon/ |                                       @I17@                                      |\n",
      "| @F8@ |   1991-3-24 |     NA    |    @I18@   |  George /Nickson/ |   @I13@ |  Kitty /Nilson/ |                                       @I19@                                      |\n",
      "+------+-------------+-----------+------------+-------------------+---------+-----------------+----------------------------------------------------------------------------------+\n",
      "US23 - Unique names and birthdates\n",
      "US25 - Unique first names in families\n",
      "-----anomaly messages-----\n",
      "ANOMOLY: INDIVIDUAL: US23: @I150@: Person Maha /Idrisi/ has Same Name and Birth Date 1990-10-30\n",
      "ANOMOLY: INDIVIDUAL: US23: @I250@: Person Ahmed /Idrisi/ has Same Name and Birth Date 1960-1-13\n",
      "ANOMOLY: INDIVIDUAL: US25: @I7@: Person Faisal /Dawood/ has Same First Names and Birth Date 1970-4-17\n",
      "ANOMOLY: INDIVIDUAL: US25: @I13@: Person Renad /Arab/ has Same First Names and Birth Date 2017-12-01\n",
      "ANOMOLY: INDIVIDUAL: US25: @I7@: Person Faisal /Dawood/ has Same First Names and Birth Date 1970-4-17\n",
      "ANOMOLY: INDIVIDUAL: US25: @I8@: Person Noura /Dawood/ has Same First Names and Birth Date 1965-8-18\n",
      "ANOMOLY: INDIVIDUAL: US25: @I17@: Person Sara /Arab/ has Same First Names and Birth Date 2016-12-20\n"
     ]
    }
   ],
   "source": [
    "document = read_in(\"./myTest.ged\")\n",
    "if os.path.exists(\"cs555_sprint_outputs.txt\"):\n",
    "    os.remove(\"cs555_sprint_outputs.txt\")\n",
    "\n",
    "create_individuals_map()\n",
    "create_family_dic()\n",
    "# Prints out all the people in GEDCOM file\n",
    "printIndividualTable()\n",
    "# Prints out all the families in GEDCO file\n",
    "printFamilyTable()\n",
    "\n",
    "unique_name_and_birth()\n",
    "uniquefamily_name_and_birth()\n",
    "\n",
    "# Prints out all the errors and anomalies of each function\n",
    "printError()\n"
   ]
  },
  {
   "cell_type": "code",
   "execution_count": null,
   "metadata": {},
   "outputs": [],
   "source": []
  }
 ],
 "metadata": {
  "kernelspec": {
   "display_name": "Python 3",
   "language": "python",
   "name": "python3"
  },
  "language_info": {
   "codemirror_mode": {
    "name": "ipython",
    "version": 3
   },
   "file_extension": ".py",
   "mimetype": "text/x-python",
   "name": "python",
   "nbconvert_exporter": "python",
   "pygments_lexer": "ipython3",
   "version": "3.7.3"
  }
 },
 "nbformat": 4,
 "nbformat_minor": 2
}
