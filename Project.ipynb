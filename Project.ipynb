{
 "cells": [
  {
   "cell_type": "code",
   "execution_count": 130,
   "metadata": {},
   "outputs": [],
   "source": [
    "#Data Structure \n",
    "tag_sp=[\"INDI\", \"FAM\"]\n",
    "#Level Zero Tags\n",
    "tag_zero=[\"HEAD\", \"TRLR\", \"NOTE\"]\n",
    "#Level One Tags\n",
    "tag_one=[\"NAME\", \"SEX\", \"BIRT\", \"DEAT\",\"FAMC\",\"FAMS\",\"MARR\", \"DIV\",\"HUSB\",\"WIFE\",\"CHIL\"]\n",
    "#Level Zero Tags\n",
    "tag_fam={\"INDI\":[\"NAME\", \"SEX\",\"BIRT\", \"DEAT\",\"FAMC\",\"FAMS\"],\n",
    "             \"FAM\":[\"MARR\", \"DIV\",\"HUSB\",\"WIFE\",\"CHIL\"], \n",
    "             \"DATE\":[\"BIRT\", \"DEAT\", \"DIV\", \"MARR\"]}\n",
    "family_dic=None\n",
    "individuals=None"
   ]
  },
  {
   "cell_type": "code",
   "execution_count": 131,
   "metadata": {},
   "outputs": [],
   "source": [
    "def isDateParent(A):\n",
    "    return A[1] in tag_fam[\"DATE\"]"
   ]
  },
  {
   "cell_type": "code",
   "execution_count": 132,
   "metadata": {},
   "outputs": [],
   "source": [
    "# Convert month string to month number\n",
    "# :param month for which we need the number\n",
    "def month_to_num(shortMonth):\n",
    "    return{\n",
    "        'JAN' : \"1\",\n",
    "        'FEB' : \"2\",\n",
    "        'MAR' : \"3\",\n",
    "        'APR' : \"4\",\n",
    "        'MAY' : \"5\",\n",
    "        'JUN' : \"6\",\n",
    "        'JUL' : \"7\",\n",
    "        'AUG' : \"8\",\n",
    "        'SEP' : \"9\", \n",
    "        'OCT' : \"10\",\n",
    "        'NOV' : \"11\",\n",
    "        'DEC' : \"12\"\n",
    "    }[shortMonth]"
   ]
  },
  {
   "cell_type": "code",
   "execution_count": 133,
   "metadata": {},
   "outputs": [],
   "source": [
    "# Convert input date to standard format\n",
    "# :param date array in input\n",
    "def convert_date(date_arr):\n",
    "    return \"{}-{}-{}\".format(date_arr[2], month_to_num(date_arr[1]), date_arr[0])"
   ]
  },
  {
   "cell_type": "code",
   "execution_count": 134,
   "metadata": {},
   "outputs": [],
   "source": [
    "from datetime import datetime\n",
    "\n",
    "# Determine age based on birthdate and death date\n",
    "# If death date is not present then function uses the current date as a comparison\n",
    "def determine_age(birth_date, death_date):\n",
    "    if death_date:\n",
    "        return int(death_date.split('-')[0]) - int(birth_date.split('-')[0])\n",
    "    else:\n",
    "        today = datetime.today()\n",
    "        return today.year - int(birth_date.split('-')[0])"
   ]
  },
  {
   "cell_type": "code",
   "execution_count": 135,
   "metadata": {},
   "outputs": [],
   "source": [
    "def find_name(arr, _id):\n",
    "    #takes array of dict objects\n",
    "    for indi in arr:\n",
    "        if _id == indi[\"INDI\"]:\n",
    "            return indi[\"NAME\"]"
   ]
  },
  {
   "cell_type": "code",
   "execution_count": 136,
   "metadata": {},
   "outputs": [],
   "source": [
    "# Returns the lastname of the name\n",
    "# Last name is surrounded by '/' in the name\n",
    "# :param name is the full name of the person\n",
    "def get_last_name(name):\n",
    "    return name.split('/')[1];"
   ]
  },
  {
   "cell_type": "code",
   "execution_count": 137,
   "metadata": {},
   "outputs": [],
   "source": [
    "# create dictionary entry for the passed tag\n",
    "# :param current_arr is the current array line being processed\n",
    "# :param tag can will be either FAM or INDI\n",
    "def create_dic_entry(current_arr, tag):\n",
    "    current_tag=tag\n",
    "    dic={}\n",
    "    dic[tag]=current_arr[1]\n",
    "    return dic, current_tag"
   ]
  },
  {
   "cell_type": "code",
   "execution_count": 138,
   "metadata": {},
   "outputs": [],
   "source": [
    "# Adds missing tags with \"NA\"\n",
    "def add_missing_entries(dic):\n",
    "    if \"DIV\" not in dic:\n",
    "        dic[\"DIV\"] = \"NA\"\n",
    "    if \"HUSB\" not in dic:\n",
    "        dic[\"HUSB\"] = \"NA\"\n",
    "    if \"HUSB_NAME\" not in dic:\n",
    "        dic[\"HUSB_NAME\"] = \"NA\"\n",
    "    if \"WIFE\" not in dic:\n",
    "        dic[\"WIFE\"] = \"NA\"\n",
    "    if \"WIFE_NAME\" not in dic:\n",
    "        dic[\"WIFE_NAME\"] = \"NA\"\n",
    "    if \"FAM_CHILD\" not in dic:\n",
    "        dic[\"FAM_CHILD\"] = \"NA\"\n",
    "    if \"MARR\" not in dic:\n",
    "        dic[\"MARR\"] = \"NA\"   "
   ]
  },
  {
   "cell_type": "code",
   "execution_count": 139,
   "metadata": {},
   "outputs": [],
   "source": [
    "# Checking if one date is after another\n",
    "# :param date_one is the date being compared with\n",
    "# :param date_two is the date being compared t0\n",
    "def is_date_after(date_one, date_two):\n",
    "    return date_one < date_two"
   ]
  },
  {
   "cell_type": "code",
   "execution_count": 140,
   "metadata": {},
   "outputs": [],
   "source": [
    "# Create map of individuals where key is the individual id and\n",
    "# individual object is the  value\n",
    "def create_individuals_map():\n",
    "    global individuals\n",
    "    individuals = {}\n",
    "    for individual in document[\"INDI\"]:\n",
    "        individuals[individual[\"INDI\"]] = individual"
   ]
  },
  {
   "cell_type": "code",
   "execution_count": 141,
   "metadata": {},
   "outputs": [],
   "source": [
    "# Creating a family dictionary with the key as the family id and the value as the\n",
    "# information about the family and the objects corresponding to husband, wife and children\n",
    "def create_family_dic():\n",
    "    global family_dic\n",
    "    family_dic = {}\n",
    "    for family in document[\"FAM\"]:\n",
    "        if family[\"HUSB\"] != \"NA\" and family[\"HUSB\"] in individuals:\n",
    "            family[\"husband_object\"] = individuals[family[\"HUSB\"]]\n",
    "        if family[\"WIFE\"] != \"NA\" and family[\"WIFE\"] in individuals:\n",
    "            family[\"wife_object\"] = individuals[family[\"WIFE\"]]\n",
    "        if family[\"FAM_CHILD\"] != \"NA\":\n",
    "            children = []\n",
    "            for child in family[\"FAM_CHILD\"]:\n",
    "                children.append(individuals[child])\n",
    "            family[\"children_objects\"] = children\n",
    "        family_dic[family[\"FAM\"]] = family\n",
    "            "
   ]
  },
  {
   "cell_type": "code",
   "execution_count": 142,
   "metadata": {},
   "outputs": [],
   "source": [
    "# User story: US16\n",
    "# This function goes over the family dictionary and \n",
    "# returns the array of family ids which contain males with different last name\n",
    "# It uses the last name of the husband in the family as the initial reference\n",
    "# \n",
    "# :returns array of family ids\n",
    "def check_last_names():\n",
    "    for family_id in family_dic:\n",
    "        family = family_dic[family_id]\n",
    "        last_name = None\n",
    "        if \"HUSB_NAME\" in family:\n",
    "            last_name = get_last_name(family[\"HUSB_NAME\"])\n",
    "        for child in family[\"children_objects\"]:\n",
    "            if child[\"SEX\"] == \"M\":\n",
    "                if last_name is None:\n",
    "                    last_name = get_last_name(child[\"NAME\"])\n",
    "                else:\n",
    "                    if last_name != get_last_name(child[\"NAME\"]):\n",
    "                        print(\"ANOMOLY: INDIVIDUAL: US16: {}: Individual has different last name {} than family {}\" \\\n",
    "                                  .format(child[\"INDI\"], get_last_name(child[\"NAME\"]), last_name))\n"
   ]
  },
  {
   "cell_type": "code",
   "execution_count": 143,
   "metadata": {},
   "outputs": [],
   "source": [
    "# User Story: US15\n",
    "def check_sibling_count():\n",
    "    for family_id in family_dic:\n",
    "        family = family_dic[family_id]\n",
    "        if (len(family[\"FAM_CHILD\"]) > 15):\n",
    "            print(\"ANOMOLY: FAMILY: US16: {}: Family has {} siblings which is more than 15 siblings\"\\\n",
    "                 .format(family_id, len(family[\"FAM_CHILD\"])))"
   ]
  },
  {
   "cell_type": "code",
   "execution_count": 144,
   "metadata": {},
   "outputs": [],
   "source": [
    "def read_in(file):\n",
    "    doc={\"INDI\":[], \"FAM\":[]}\n",
    "    dic={}\n",
    "    flag=False #indicates whether the correct tag has appeared before DATE tag\n",
    "    with open(file) as f:\n",
    "        all_lines=f.readlines()\n",
    "        for line, next_line in zip(all_lines, all_lines[1:]):\n",
    "            current_arr=line.strip().split(\" \")\n",
    "            next_arr=next_line.strip().split(\" \")\n",
    "            #if the current tag is individual\n",
    "            if len(current_arr)==3 and current_arr[0]=='0' and current_arr[2]== \"INDI\":\n",
    "                #inserts individual's ID into the dictionary\n",
    "                dic, current_tag=create_dic_entry(current_arr, \"INDI\") \n",
    "            elif len(current_arr)==3 and current_arr[0]=='0' and current_arr[2]==\"FAM\": \n",
    "                dic, current_tag=create_dic_entry(current_arr, \"FAM\")\n",
    "            elif (current_arr[1]==\"DATE\" and flag):\n",
    "                flag=False\n",
    "                date_arr = current_arr[2:] #extracts the date argument from the line\n",
    "                dic[tmp]= convert_date(date_arr) #converts the date into correct format\n",
    "            elif current_arr[0]=='1' and current_arr[1] in tag_one:\n",
    "                if (isDateParent(current_arr)): #determines whether the current tag is parent of DATE tag\n",
    "                    tmp=current_arr[1] #extracts the tag name\n",
    "                    flag=True\n",
    "                else: \n",
    "                    #current tag is not the parent tag of DATE tag\n",
    "                    if current_arr[1] == \"HUSB\":\n",
    "                        dic[\"HUSB_NAME\"]=find_name(doc[\"INDI\"], current_arr[2])\n",
    "                    if current_arr[1] == \"WIFE\":\n",
    "                        dic[\"WIFE_NAME\"]=find_name(doc[\"INDI\"], current_arr[2])\n",
    "                    if current_arr[1] == 'CHIL':\n",
    "                        #INDI_CHILD indicates all the children within a family\n",
    "                        children = dic[\"FAM_CHILD\"] if \"FAM_CHILD\" in dic else []\n",
    "                        children.append(current_arr[2])\n",
    "                        dic[\"FAM_CHILD\"] = children\n",
    "                    if current_arr[1] == 'FAMC' or current_arr[1] == 'FAMS':\n",
    "                        child = dic[\"INDI_CHILD\"] if \"INDI_CHILD\" in dic else []\n",
    "                        spouse = dic[\"SPOUSE\"] if \"SPOUSE\" in dic else []\n",
    "                        child.append(current_arr[2]) if current_arr[1] == 'FAMC' else spouse.append(current_arr[2])\n",
    "                        dic['INDI_CHILD'] = child #FAM_CHILD indicates which family this individual belongs to\n",
    "                        dic['SPOUSE'] = spouse\n",
    "                    else: #other type of tag\n",
    "                        dic[current_arr[1]]=' '.join(current_arr[2:])\n",
    "            if (len(next_arr)==3 and next_arr[0]=='0' and next_arr[2] in tag_sp) or next_arr[1]==\"TRLR\":\n",
    "                if dic:\n",
    "                    if current_tag == 'INDI':\n",
    "                        if 'DEAT' in dic:\n",
    "                            age = determine_age(dic['BIRT'], dic['DEAT'])\n",
    "                            alive = False\n",
    "                        else:\n",
    "                            age = determine_age(dic['BIRT'], None)\n",
    "                            alive = True\n",
    "                            dic['DEAT'] = 'NA'\n",
    "                        dic[\"AGE\"] = str(age)\n",
    "                        dic['ALIVE']= alive\n",
    "                        #print(current_tag\n",
    "                        if not dic[\"SPOUSE\"]:\n",
    "                            dic[\"SPOUSE\"] = \"NA\"\n",
    "                        elif not dic[\"INDI_CHILD\"]:\n",
    "                            dic[\"INDI_CHILD\"] = \"NA\"\n",
    "                    if current_tag == 'FAM':\n",
    "                        add_missing_entries(dic)\n",
    "                    doc[current_tag].append(dic)\n",
    "        return doc\n",
    "                  "
   ]
  },
  {
   "cell_type": "code",
   "execution_count": 145,
   "metadata": {},
   "outputs": [],
   "source": [
    "# Uses the prettyTable module and print out the passed-in dictionary data\n",
    "# :param fields the table column title\n",
    "# :param tag_names the tag names used to access the dictionary elements\n",
    "# :param dictionary the dictionary with the data needed to be printed\n",
    "def printTable(fields, tag_names, dictionary):\n",
    "    table = PrettyTable()\n",
    "    table.field_names = fields\n",
    "    for element in dictionary.values():    \n",
    "        count = 1\n",
    "        row_data = \"\" #string uses to store each tag within the current element\n",
    "        for name in tag_names:\n",
    "            if (count < int(len(tag_names))): #not the last element\n",
    "                row_data += (str(element[name]) + \", \")\n",
    "            elif (count == int(len(tag_names))): #last element\n",
    "                row_data += str(element[name])\n",
    "                break\n",
    "            count+= 1;\n",
    "        table.add_row(row_data.split(','))\n",
    "    print(table)"
   ]
  },
  {
   "cell_type": "code",
   "execution_count": 146,
   "metadata": {},
   "outputs": [
    {
     "name": "stdout",
     "output_type": "stream",
     "text": [
      "ANOMOLY: INDIVIDUAL: US16: @I1@: Individual has different last name Pottere than family Potter\n",
      "ANOMOLY: FAMILY: US16: @F1@: Family has 17 siblings which is more than 15 siblings\n"
     ]
    }
   ],
   "source": [
    "document = read_in(\"./myTest.ged\")\n",
    "create_individuals_map()\n",
    "create_family_dic()\n",
    "check_last_names()\n",
    "check_sibling_count()"
   ]
  },
  {
   "cell_type": "code",
   "execution_count": 147,
   "metadata": {},
   "outputs": [
    {
     "name": "stdout",
     "output_type": "stream",
     "text": [
      "Requirement already satisfied: prettytable in /Users/hemshah/anaconda2/lib/python2.7/site-packages (0.7.2)\n",
      "+-------+-------------------+--------+------------+-----+-------+------------+-------+----------+\n",
      "|   ID  |        Name       | Gender |  Birthday  | Age | Alive |   Death    | Child |  Spouse  |\n",
      "+-------+-------------------+--------+------------+-----+-------+------------+-------+----------+\n",
      "|  @I1@ |   John /Pottere/  |   M    | 1994-10-27 |  25 |  True |     NA     |  @F1@ |    NA    |\n",
      "| @I11@ |   John1 /Potter/  |   M    | 1994-10-27 |  25 |  True |     NA     |  @F1@ |    NA    |\n",
      "| @I12@ |   John1 /Potter/  |   M    | 1994-10-27 |  25 |  True |     NA     |  @F1@ |    NA    |\n",
      "| @I13@ |   John1 /Potter/  |   M    | 1994-10-27 |  25 |  True |     NA     |  @F1@ |    NA    |\n",
      "| @I14@ |   John1 /Potter/  |   M    | 1994-10-27 |  25 |  True |     NA     |  @F1@ |    NA    |\n",
      "| @I15@ |   John1 /Potter/  |   M    | 1994-10-27 |  25 |  True |     NA     |  @F1@ |    NA    |\n",
      "| @I16@ |   John1 /Potter/  |   M    | 1994-10-27 |  25 |  True |     NA     |  @F1@ |    NA    |\n",
      "| @I17@ |   John1 /Potter/  |   M    | 1994-10-27 |  25 |  True |     NA     |  @F1@ |    NA    |\n",
      "| @I18@ |   John1 /Potter/  |   M    | 1994-10-27 |  25 |  True |     NA     |  @F1@ |    NA    |\n",
      "| @I19@ |   John1 /Potter/  |   M    | 1994-10-27 |  25 |  True |     NA     |  @F1@ |    NA    |\n",
      "| @I20@ |   John1 /Potter/  |   M    | 1994-10-27 |  25 |  True |     NA     |  @F1@ |    NA    |\n",
      "| @I21@ |   John1 /Potter/  |   M    | 1994-10-27 |  25 |  True |     NA     |  @F1@ |    NA    |\n",
      "| @I22@ |   John1 /Potter/  |   M    | 1994-10-27 |  25 |  True |     NA     |  @F1@ |    NA    |\n",
      "| @I23@ |   John1 /Potter/  |   M    | 1994-10-27 |  25 |  True |     NA     |  @F1@ |    NA    |\n",
      "| @I24@ |   John1 /Potter/  |   M    | 1994-10-27 |  25 |  True |     NA     |  @F1@ |    NA    |\n",
      "| @I25@ |   John1 /Potter/  |   M    | 1994-10-27 |  25 |  True |     NA     |  @F1@ |    NA    |\n",
      "|  @I2@ | Chandler /Potter/ |   M    |  1967-7-1  |  52 |  True |     NA     |  @F2@ |   @F1@   |\n",
      "|  @I3@ |   Monica /Scott/  |   F    | 1968-6-15  |  51 |  True |     NA     |  @F3@ |   @F1@   |\n",
      "|  @I4@ |   Ross /Potter/   |   M    | 1930-11-3  |  75 | False | 2005-11-16 |   NA  |   @F2@   |\n",
      "|  @I5@ |  Rachel /Halpert/ |   F    | 1939-3-18  |  80 |  True |     NA     |   NA  |   @F2@   |\n",
      "|  @I6@ |    Sid /Scott/    |   M    |  1936-9-5  |  83 |  True |     NA     |   NA  |   @F3@   |\n",
      "|  @I7@ |    Pam /Malone/   |   F    | 1936-12-7  |  83 |  True |     NA     |   NA  | @F3@@F4@ |\n",
      "|  @I8@ |    Roy /Shrute/   |   M    |  1932-9-5  |  76 | False |  2008-6-5  |   NA  |   @F4@   |\n",
      "|  @I9@ |   April /Dwyer/   |   F    |  1960-4-4  |  59 |  True |     NA     |  @F4@ |    NA    |\n",
      "| @I10@ |   Harry /Potter/  |   M    |  1995-3-3  |  24 |  True |     NA     |  @F1@ |    NA    |\n",
      "+-------+-------------------+--------+------------+-----+-------+------------+-------+----------+\n",
      "+------+-----------+-----------+------------+-------------------+---------+------------------+--------------------------------------------------------------------------------------+\n",
      "|  ID  |  Married  |  Divorced | Husband ID |    Husband Name   | Wife ID |    Wife Name     |                                       Children                                       |\n",
      "+------+-----------+-----------+------------+-------------------+---------+------------------+--------------------------------------------------------------------------------------+\n",
      "| @F1@ | 1990-4-11 |     NA    |    @I2@    | Chandler /Potter/ |   @I3@  |  Monica /Scott/  | @I1@@I10@@I11@@I12@@I13@@I14@@I15@@I16@@I17@@I18@@I19@@I20@@I21@@I22@@I23@@I24@@I24@ |\n",
      "| @F2@ |     NA    |     NA    |    @I4@    |   Ross /Potter/   |   @I5@  | Rachel /Halpert/ |                                         @I2@                                         |\n",
      "| @F3@ |  1964-5-5 |     NA    |    @I6@    |    Sid /Scott/    |   @I7@  |   Pam /Malone/   |                                         @I3@                                         |\n",
      "| @F4@ | 1958-5-12 | 1962-9-12 |    @I8@    |    Roy /Shrute/   |   @I7@  |   Pam /Malone/   |                                         @I9@                                         |\n",
      "+------+-----------+-----------+------------+-------------------+---------+------------------+--------------------------------------------------------------------------------------+\n"
     ]
    }
   ],
   "source": [
    "!pip install prettytable\n",
    "\n",
    "from prettytable import PrettyTable\n",
    "\n",
    "for family in document[\"FAM\"]:\n",
    "    husband=family[\"HUSB\"] if \"HUSB\" in family else []\n",
    "    \n",
    "    \n",
    "indi_table = PrettyTable() #individual table\n",
    "indi_table.field_names = [\"ID\", \"Name\", \"Gender\", \"Birthday\", \"Age\", \"Alive\", \"Death\", \"Child\", \"Spouse\"]\n",
    "fam_table = PrettyTable() #family table\n",
    "fam_table.field_names = [\"ID\", \"Married\", \"Divorced\", \"Husband ID\", \"Husband Name\", \"Wife ID\", \"Wife Name\", \"Children\"]\n",
    "for individual in document[\"INDI\"]:\n",
    "    indi_table.add_row([individual[\"INDI\"], individual[\"NAME\"], individual[\"SEX\"], individual[\"BIRT\"], individual[\"AGE\"], \n",
    "                       individual[\"ALIVE\"], individual[\"DEAT\"], (\"\".join(individual[\"INDI_CHILD\"])), (\"\".join(individual[\"SPOUSE\"]))])\n",
    "    \n",
    "for family in document[\"FAM\"]:\n",
    "    fam_table.add_row([family[\"FAM\"], family[\"MARR\"], family[\"DIV\"], family[\"HUSB\"], family[\"HUSB_NAME\"], family[\"WIFE\"], family[\"WIFE_NAME\"], (\"\".join(family[\"FAM_CHILD\"]))])\n",
    "    \n",
    "print(indi_table)\n",
    "print(fam_table)"
   ]
  },
  {
   "cell_type": "code",
   "execution_count": null,
   "metadata": {},
   "outputs": [],
   "source": []
  }
 ],
 "metadata": {
  "kernelspec": {
   "display_name": "Python 2",
   "language": "python",
   "name": "python2"
  },
  "language_info": {
   "codemirror_mode": {
    "name": "ipython",
    "version": 2
   },
   "file_extension": ".py",
   "mimetype": "text/x-python",
   "name": "python",
   "nbconvert_exporter": "python",
   "pygments_lexer": "ipython2",
   "version": "2.7.15"
  }
 },
 "nbformat": 4,
 "nbformat_minor": 2
}
