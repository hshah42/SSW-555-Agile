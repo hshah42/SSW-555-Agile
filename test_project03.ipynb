{
 "cells": [
  {
   "cell_type": "code",
   "execution_count": 84,
   "metadata": {},
   "outputs": [],
   "source": [
    "import pytest\n",
    "import unittest\n",
    "import Project as project\n",
    "import StringIO\n",
    "import sys"
   ]
  },
  {
   "cell_type": "code",
   "execution_count": 85,
   "metadata": {},
   "outputs": [],
   "source": [
    "def test_more_than_15_siblings():\n",
    "    family_dic = {'@F1@':{'FAM_CHILD':['@I1@','@I10@','@I11@','@I12@','@I13@','@I14@','@I15@','@I16@','@I17@','@I18@','@I19@','@I20@','@I21@','@I22@','@I23@','@I24@','@I24@']}}\n",
    "    project.family_dic = family_dic\n",
    "    fake_out = StringIO.StringIO()\n",
    "    sys.stdout = fake_out\n",
    "    \n",
    "    project.check_sibling_count()\n",
    "\n",
    "    sys.stdout = sys.__stdout__\n",
    "    assert fake_out.getvalue() == 'ANOMOLY: FAMILY: US16: @F1@: Family has 17 siblings which is more than 15 siblings\\n'\n"
   ]
  },
  {
   "cell_type": "code",
   "execution_count": 86,
   "metadata": {},
   "outputs": [],
   "source": [
    "def test_less_than_15_siblings():\n",
    "    family_dic = {'@F1@':{'FAM_CHILD':['@I1@']}}\n",
    "    project.family_dic = family_dic\n",
    "    fake_out = StringIO.StringIO()\n",
    "    sys.stdout = fake_out\n",
    "    \n",
    "    project.check_sibling_count()\n",
    "\n",
    "    sys.stdout = sys.__stdout__\n",
    "    assert fake_out.getvalue() == ''\n"
   ]
  },
  {
   "cell_type": "code",
   "execution_count": 87,
   "metadata": {},
   "outputs": [],
   "source": [
    "def test_different_male_last_name():\n",
    "    family_dic = {'@F1@':{'HUSB_NAME':'Harry /Potter/','FAM_CHILD':['@I1@','@I10@'],'children_objects':[{'INDI':'@I1@', 'SEX':'M','NAME':'Chandler /Bing/'},{'INDI':'@I10@', 'SEX':'M','NAME':'Chandler /Potter/'}]}}\n",
    "    project.family_dic = family_dic\n",
    "    fake_out = StringIO.StringIO()\n",
    "    sys.stdout = fake_out\n",
    "    \n",
    "    project.check_last_names()\n",
    "\n",
    "    sys.stdout = sys.__stdout__\n",
    "    assert fake_out.getvalue() == 'ANOMOLY: INDIVIDUAL: US16: @I1@: Individual has different last name Bing than family Potter\\n'\n",
    "    "
   ]
  },
  {
   "cell_type": "code",
   "execution_count": 88,
   "metadata": {},
   "outputs": [],
   "source": [
    "def test_same_male_last_name():\n",
    "    family_dic = {'@F1@':{'HUSB_NAME':'Harry /Potter/','FAM_CHILD':['@I1@','@I10@'],'children_objects':[{'INDI':'@I1@', 'SEX':'M','NAME':'Joey /Potter/'},{'INDI':'@I10@', 'SEX':'M','NAME':'Chandler /Potter/'}]}}\n",
    "    project.family_dic = family_dic\n",
    "    fake_out = StringIO.StringIO()\n",
    "    sys.stdout = fake_out\n",
    "    \n",
    "    project.check_last_names()\n",
    "\n",
    "    sys.stdout = sys.__stdout__\n",
    "    assert fake_out.getvalue() == ''\n",
    "    "
   ]
  },
  {
   "cell_type": "code",
   "execution_count": 89,
   "metadata": {},
   "outputs": [],
   "source": [
    "test_more_than_15_siblings()\n",
    "test_less_than_15_siblings()\n",
    "test_different_male_last_name()\n",
    "test_same_male_last_name()"
   ]
  },
  {
   "cell_type": "code",
   "execution_count": null,
   "metadata": {},
   "outputs": [],
   "source": []
  }
 ],
 "metadata": {
  "kernelspec": {
   "display_name": "Python 2",
   "language": "python",
   "name": "python2"
  },
  "language_info": {
   "codemirror_mode": {
    "name": "ipython",
    "version": 2
   },
   "file_extension": ".py",
   "mimetype": "text/x-python",
   "name": "python",
   "nbconvert_exporter": "python",
   "pygments_lexer": "ipython2",
   "version": "2.7.15"
  }
 },
 "nbformat": 4,
 "nbformat_minor": 2
}
